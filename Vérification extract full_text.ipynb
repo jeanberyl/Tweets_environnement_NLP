{
 "cells": [
  {
   "cell_type": "code",
   "execution_count": 1,
   "metadata": {},
   "outputs": [],
   "source": [
    "import pandas as pd\n",
    "pd.options.display.max_colwidth = 280"
   ]
  },
  {
   "cell_type": "code",
   "execution_count": 3,
   "metadata": {
    "scrolled": false
   },
   "outputs": [
    {
     "data": {
      "text/html": [
       "<div>\n",
       "<style scoped>\n",
       "    .dataframe tbody tr th:only-of-type {\n",
       "        vertical-align: middle;\n",
       "    }\n",
       "\n",
       "    .dataframe tbody tr th {\n",
       "        vertical-align: top;\n",
       "    }\n",
       "\n",
       "    .dataframe thead th {\n",
       "        text-align: right;\n",
       "    }\n",
       "</style>\n",
       "<table border=\"1\" class=\"dataframe\">\n",
       "  <thead>\n",
       "    <tr style=\"text-align: right;\">\n",
       "      <th></th>\n",
       "      <th>Unnamed: 0</th>\n",
       "      <th>tweet_id</th>\n",
       "      <th>date</th>\n",
       "      <th>full_text</th>\n",
       "      <th>text</th>\n",
       "      <th>user</th>\n",
       "      <th>entities</th>\n",
       "    </tr>\n",
       "  </thead>\n",
       "  <tbody>\n",
       "    <tr>\n",
       "      <th>0</th>\n",
       "      <td>0</td>\n",
       "      <td>1268297737637892107</td>\n",
       "      <td>2020-06-03 21:45:19</td>\n",
       "      <td>Aurélien Barrau : « SpaceX et la nouvelle conquête spatiale : la démonstration de notre incohérence »\\nhttps://t.co/mcnMaQfKQt</td>\n",
       "      <td>NaN</td>\n",
       "      <td>JMJancovici</td>\n",
       "      <td>{'hashtags': [], 'symbols': [], 'user_mentions': [], 'urls': [{'url': 'https://t.co/mcnMaQfKQt', 'expanded_url': 'https://www.goodplanet.info/2020/06/02/aurelien-barrau-la-tristesse-de-la-conquete-spatiale/', 'display_url': 'goodplanet.info/2020/06/02/aur…', 'indices': [102, ...</td>\n",
       "    </tr>\n",
       "    <tr>\n",
       "      <th>1</th>\n",
       "      <td>1</td>\n",
       "      <td>1267927751027277827</td>\n",
       "      <td>2020-06-02 21:15:07</td>\n",
       "      <td>Les forêts tropicales continuent de disparaître à un rythme alarmant\\nArticle complet à lire ici : https://t.co/yW4t96Z1hi\\nhttps://t.co/ckJj5wLgEO</td>\n",
       "      <td>NaN</td>\n",
       "      <td>JMJancovici</td>\n",
       "      <td>{'hashtags': [], 'symbols': [], 'user_mentions': [], 'urls': [{'url': 'https://t.co/yW4t96Z1hi', 'expanded_url': 'https://www.facebook.com/jeanmarc.jancovici/posts/10159380170882281', 'display_url': 'facebook.com/jeanmarc.janco…', 'indices': [98, 121]}, {'url': 'https://t.co/...</td>\n",
       "    </tr>\n",
       "    <tr>\n",
       "      <th>2</th>\n",
       "      <td>2</td>\n",
       "      <td>1266469311952171019</td>\n",
       "      <td>2020-05-29 20:39:48</td>\n",
       "      <td>Jean-Marc Jancovici était invité dans la matinale de la RTS (Radio Télevision Suisse) le 21 mai 2020 pour parler de \"L'Après Covid\".\\nPodcast de 26'\\nhttps://t.co/LR3VLNyYoy</td>\n",
       "      <td>NaN</td>\n",
       "      <td>JMJancovici</td>\n",
       "      <td>{'hashtags': [], 'symbols': [], 'user_mentions': [], 'urls': [{'url': 'https://t.co/LR3VLNyYoy', 'expanded_url': 'https://soundcloud.com/effondrement-imminent/jancovici-dans-la-matinale-de-la-rts-21052020', 'display_url': 'soundcloud.com/effondrement-i…', 'indices': [148, 171...</td>\n",
       "    </tr>\n",
       "    <tr>\n",
       "      <th>3</th>\n",
       "      <td>3</td>\n",
       "      <td>1266398083962884099</td>\n",
       "      <td>2020-05-29 15:56:46</td>\n",
       "      <td>Le progrès technique ne suffira pas à la diminution des émissions de gaz à effet de serre des avions, indispensable contre le réchauffement climatique, affirment plus de 550 étudiants du secteur de l’aéronautique \\nhttps://t.co/W2iFOLUIuV</td>\n",
       "      <td>NaN</td>\n",
       "      <td>JMJancovici</td>\n",
       "      <td>{'hashtags': [], 'symbols': [], 'user_mentions': [], 'urls': [{'url': 'https://t.co/W2iFOLUIuV', 'expanded_url': 'https://www.lemonde.fr/idees/article/2020/05/29/aeronautique-la-transition-ecologique-impose-une-profonde-transformation-de-notre-industrie_6041127_3232.html', 'd...</td>\n",
       "    </tr>\n",
       "    <tr>\n",
       "      <th>4</th>\n",
       "      <td>4</td>\n",
       "      <td>1266028941141295105</td>\n",
       "      <td>2020-05-28 15:29:55</td>\n",
       "      <td>Transports : Faut-il supprimer les lignes aériennes qui font de l’ombre au train ?\\nhttps://t.co/ERZ4kpNPr1</td>\n",
       "      <td>NaN</td>\n",
       "      <td>JMJancovici</td>\n",
       "      <td>{'hashtags': [], 'symbols': [], 'user_mentions': [], 'urls': [{'url': 'https://t.co/ERZ4kpNPr1', 'expanded_url': 'https://www.20minutes.fr/planete/2786215-20200526-transports-faut-supprimer-lignes-aeriennes-font-ombre-train?fbclid=IwAR1aKRn08o8hNfcjZVTkVm5vjbKDucoqTuQN_MBTomp...</td>\n",
       "    </tr>\n",
       "  </tbody>\n",
       "</table>\n",
       "</div>"
      ],
      "text/plain": [
       "   Unnamed: 0             tweet_id                 date  \\\n",
       "0           0  1268297737637892107  2020-06-03 21:45:19   \n",
       "1           1  1267927751027277827  2020-06-02 21:15:07   \n",
       "2           2  1266469311952171019  2020-05-29 20:39:48   \n",
       "3           3  1266398083962884099  2020-05-29 15:56:46   \n",
       "4           4  1266028941141295105  2020-05-28 15:29:55   \n",
       "\n",
       "                                                                                                                                                                                                                                        full_text  \\\n",
       "0                                                                                                                  Aurélien Barrau : « SpaceX et la nouvelle conquête spatiale : la démonstration de notre incohérence »\\nhttps://t.co/mcnMaQfKQt   \n",
       "1                                                                                             Les forêts tropicales continuent de disparaître à un rythme alarmant\\nArticle complet à lire ici : https://t.co/yW4t96Z1hi\\nhttps://t.co/ckJj5wLgEO   \n",
       "2                                                                   Jean-Marc Jancovici était invité dans la matinale de la RTS (Radio Télevision Suisse) le 21 mai 2020 pour parler de \"L'Après Covid\".\\nPodcast de 26'\\nhttps://t.co/LR3VLNyYoy   \n",
       "3  Le progrès technique ne suffira pas à la diminution des émissions de gaz à effet de serre des avions, indispensable contre le réchauffement climatique, affirment plus de 550 étudiants du secteur de l’aéronautique \\nhttps://t.co/W2iFOLUIuV   \n",
       "4                                                                                                                                     Transports : Faut-il supprimer les lignes aériennes qui font de l’ombre au train ?\\nhttps://t.co/ERZ4kpNPr1   \n",
       "\n",
       "   text         user  \\\n",
       "0   NaN  JMJancovici   \n",
       "1   NaN  JMJancovici   \n",
       "2   NaN  JMJancovici   \n",
       "3   NaN  JMJancovici   \n",
       "4   NaN  JMJancovici   \n",
       "\n",
       "                                                                                                                                                                                                                                                                                  entities  \n",
       "0  {'hashtags': [], 'symbols': [], 'user_mentions': [], 'urls': [{'url': 'https://t.co/mcnMaQfKQt', 'expanded_url': 'https://www.goodplanet.info/2020/06/02/aurelien-barrau-la-tristesse-de-la-conquete-spatiale/', 'display_url': 'goodplanet.info/2020/06/02/aur…', 'indices': [102, ...  \n",
       "1  {'hashtags': [], 'symbols': [], 'user_mentions': [], 'urls': [{'url': 'https://t.co/yW4t96Z1hi', 'expanded_url': 'https://www.facebook.com/jeanmarc.jancovici/posts/10159380170882281', 'display_url': 'facebook.com/jeanmarc.janco…', 'indices': [98, 121]}, {'url': 'https://t.co/...  \n",
       "2  {'hashtags': [], 'symbols': [], 'user_mentions': [], 'urls': [{'url': 'https://t.co/LR3VLNyYoy', 'expanded_url': 'https://soundcloud.com/effondrement-imminent/jancovici-dans-la-matinale-de-la-rts-21052020', 'display_url': 'soundcloud.com/effondrement-i…', 'indices': [148, 171...  \n",
       "3  {'hashtags': [], 'symbols': [], 'user_mentions': [], 'urls': [{'url': 'https://t.co/W2iFOLUIuV', 'expanded_url': 'https://www.lemonde.fr/idees/article/2020/05/29/aeronautique-la-transition-ecologique-impose-une-profonde-transformation-de-notre-industrie_6041127_3232.html', 'd...  \n",
       "4  {'hashtags': [], 'symbols': [], 'user_mentions': [], 'urls': [{'url': 'https://t.co/ERZ4kpNPr1', 'expanded_url': 'https://www.20minutes.fr/planete/2786215-20200526-transports-faut-supprimer-lignes-aeriennes-font-ombre-train?fbclid=IwAR1aKRn08o8hNfcjZVTkVm5vjbKDucoqTuQN_MBTomp...  "
      ]
     },
     "execution_count": 3,
     "metadata": {},
     "output_type": "execute_result"
    }
   ],
   "source": [
    "df = pd.read_csv(\"resources/extract/table_max_june04.csv\")\n",
    "df.head()"
   ]
  },
  {
   "cell_type": "code",
   "execution_count": 4,
   "metadata": {},
   "outputs": [
    {
     "data": {
      "text/plain": [
       "(8482, 7)"
      ]
     },
     "execution_count": 4,
     "metadata": {},
     "output_type": "execute_result"
    }
   ],
   "source": [
    "df.shape"
   ]
  }
 ],
 "metadata": {
  "kernelspec": {
   "display_name": "Python 3.7.7 64-bit ('pythonNLP': conda)",
   "language": "python",
   "name": "python37764bitpythonnlpcondaa52666eca57540e09306ffe2b498d1e7"
  },
  "language_info": {
   "codemirror_mode": {
    "name": "ipython",
    "version": 3
   },
   "file_extension": ".py",
   "mimetype": "text/x-python",
   "name": "python",
   "nbconvert_exporter": "python",
   "pygments_lexer": "ipython3",
   "version": "3.7.7"
  }
 },
 "nbformat": 4,
 "nbformat_minor": 4
}
